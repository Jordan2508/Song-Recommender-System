{
 "cells": [
  {
   "cell_type": "code",
   "execution_count": 3,
   "id": "327a097e-13a1-4a45-b059-39ba083604e2",
   "metadata": {},
   "outputs": [],
   "source": [
    "import pandas as pd\n",
    "import numpy as np"
   ]
  },
  {
   "cell_type": "code",
   "execution_count": 4,
   "id": "9f72dea7-b77d-47de-b4fe-66331aa13e71",
   "metadata": {},
   "outputs": [],
   "source": [
    "df=pd.read_csv('songs.csv',encoding='latin1')"
   ]
  },
  {
   "cell_type": "code",
   "execution_count": 5,
   "id": "5d9b9d1b-cf96-417c-b134-456851f7994a",
   "metadata": {},
   "outputs": [
    {
     "data": {
      "text/html": [
       "<div>\n",
       "<style scoped>\n",
       "    .dataframe tbody tr th:only-of-type {\n",
       "        vertical-align: middle;\n",
       "    }\n",
       "\n",
       "    .dataframe tbody tr th {\n",
       "        vertical-align: top;\n",
       "    }\n",
       "\n",
       "    .dataframe thead th {\n",
       "        text-align: right;\n",
       "    }\n",
       "</style>\n",
       "<table border=\"1\" class=\"dataframe\">\n",
       "  <thead>\n",
       "    <tr style=\"text-align: right;\">\n",
       "      <th></th>\n",
       "      <th>Song-Name</th>\n",
       "      <th>Singer/Artists</th>\n",
       "      <th>Genre</th>\n",
       "      <th>Album/Movie</th>\n",
       "      <th>User-Rating</th>\n",
       "    </tr>\n",
       "  </thead>\n",
       "  <tbody>\n",
       "    <tr>\n",
       "      <th>1313</th>\n",
       "      <td>Nadiya Chale Chale Re Dhara</td>\n",
       "      <td>Manna Dey</td>\n",
       "      <td>BollywoodDance</td>\n",
       "      <td>Safar</td>\n",
       "      <td>8.6/10</td>\n",
       "    </tr>\n",
       "    <tr>\n",
       "      <th>2320</th>\n",
       "      <td>Dhoondo Dhoondo Re Sajna</td>\n",
       "      <td>Lata Mangeshkar</td>\n",
       "      <td>BollywoodRomantic</td>\n",
       "      <td>Gunga Jumna</td>\n",
       "      <td>8.8/10</td>\n",
       "    </tr>\n",
       "    <tr>\n",
       "      <th>1321</th>\n",
       "      <td>Cocktail Mashup</td>\n",
       "      <td>Multiple</td>\n",
       "      <td>BollywoodDance</td>\n",
       "      <td>Cocktail</td>\n",
       "      <td>9.5/10</td>\n",
       "    </tr>\n",
       "    <tr>\n",
       "      <th>1658</th>\n",
       "      <td>Besharmi Ki Height (Remix)</td>\n",
       "      <td>Benny Dayal, Shalmali Kholgade</td>\n",
       "      <td>BollywoodDance</td>\n",
       "      <td>Main Tera Hero</td>\n",
       "      <td>9.3/10</td>\n",
       "    </tr>\n",
       "    <tr>\n",
       "      <th>1873</th>\n",
       "      <td>Mujhe Tu Jo Mila</td>\n",
       "      <td>Aaman Trikha</td>\n",
       "      <td>BollywoodRomantic</td>\n",
       "      <td>Khel To Abb Shuru Hoga</td>\n",
       "      <td>8.6/10</td>\n",
       "    </tr>\n",
       "    <tr>\n",
       "      <th>815</th>\n",
       "      <td>Imli Ka Boota</td>\n",
       "      <td>Mohammad Aziz, Sudesh Bhonsle</td>\n",
       "      <td>Bollywood</td>\n",
       "      <td>Saudagar</td>\n",
       "      <td>8.4/10</td>\n",
       "    </tr>\n",
       "    <tr>\n",
       "      <th>783</th>\n",
       "      <td>Yeh Kaisi Jagah</td>\n",
       "      <td>Deepali Sathe, Zubeen Garg</td>\n",
       "      <td>BollywoodSad</td>\n",
       "      <td>Hamari Adhuri Kahani</td>\n",
       "      <td>9.5/10</td>\n",
       "    </tr>\n",
       "    <tr>\n",
       "      <th>1193</th>\n",
       "      <td>Kya Dekhte Ho Surat Tumhari</td>\n",
       "      <td>Asha Bhosle, Mohammed Rafi</td>\n",
       "      <td>BollywoodRomantic</td>\n",
       "      <td>Qurbani</td>\n",
       "      <td>8.9/10</td>\n",
       "    </tr>\n",
       "    <tr>\n",
       "      <th>766</th>\n",
       "      <td>Tere Naina</td>\n",
       "      <td>Shafqat Amanat Ali, Shankar Ehsaan Loy</td>\n",
       "      <td>BollywoodRomantic</td>\n",
       "      <td>My Name is Khan</td>\n",
       "      <td>9.6/10</td>\n",
       "    </tr>\n",
       "    <tr>\n",
       "      <th>2274</th>\n",
       "      <td>Nasha Nasha</td>\n",
       "      <td>Neha Bhasin</td>\n",
       "      <td>BollywoodDance</td>\n",
       "      <td>Daddy Cool</td>\n",
       "      <td>9.2/10</td>\n",
       "    </tr>\n",
       "  </tbody>\n",
       "</table>\n",
       "</div>"
      ],
      "text/plain": [
       "                        Song-Name                          Singer/Artists  \\\n",
       "1313  Nadiya Chale Chale Re Dhara                               Manna Dey   \n",
       "2320     Dhoondo Dhoondo Re Sajna                         Lata Mangeshkar   \n",
       "1321              Cocktail Mashup                                Multiple   \n",
       "1658   Besharmi Ki Height (Remix)          Benny Dayal, Shalmali Kholgade   \n",
       "1873             Mujhe Tu Jo Mila                            Aaman Trikha   \n",
       "815                 Imli Ka Boota           Mohammad Aziz, Sudesh Bhonsle   \n",
       "783               Yeh Kaisi Jagah              Deepali Sathe, Zubeen Garg   \n",
       "1193  Kya Dekhte Ho Surat Tumhari              Asha Bhosle, Mohammed Rafi   \n",
       "766                    Tere Naina  Shafqat Amanat Ali, Shankar Ehsaan Loy   \n",
       "2274                  Nasha Nasha                             Neha Bhasin   \n",
       "\n",
       "                  Genre             Album/Movie User-Rating  \n",
       "1313     BollywoodDance                   Safar      8.6/10  \n",
       "2320  BollywoodRomantic             Gunga Jumna      8.8/10  \n",
       "1321     BollywoodDance                Cocktail      9.5/10  \n",
       "1658     BollywoodDance          Main Tera Hero      9.3/10  \n",
       "1873  BollywoodRomantic  Khel To Abb Shuru Hoga      8.6/10  \n",
       "815           Bollywood                Saudagar      8.4/10  \n",
       "783        BollywoodSad    Hamari Adhuri Kahani      9.5/10  \n",
       "1193  BollywoodRomantic                 Qurbani      8.9/10  \n",
       "766   BollywoodRomantic         My Name is Khan      9.6/10  \n",
       "2274     BollywoodDance              Daddy Cool      9.2/10  "
      ]
     },
     "execution_count": 5,
     "metadata": {},
     "output_type": "execute_result"
    }
   ],
   "source": [
    "df.sample(10)"
   ]
  },
  {
   "cell_type": "code",
   "execution_count": 6,
   "id": "f63a8482-00b3-4fe1-a0a9-cfa6d88670ea",
   "metadata": {},
   "outputs": [],
   "source": [
    "df.rename(columns={'Song-Name':'SongName'},inplace=True)"
   ]
  },
  {
   "cell_type": "code",
   "execution_count": 7,
   "id": "94cfc511-7ade-4216-96e6-8209670c9f0d",
   "metadata": {},
   "outputs": [
    {
     "data": {
      "text/plain": [
       "(2420, 5)"
      ]
     },
     "execution_count": 7,
     "metadata": {},
     "output_type": "execute_result"
    }
   ],
   "source": [
    "df.shape"
   ]
  },
  {
   "cell_type": "code",
   "execution_count": 8,
   "id": "d14356ee-64e6-435a-8cf7-ebdd0a7d66c6",
   "metadata": {},
   "outputs": [
    {
     "data": {
      "text/plain": [
       "SongName           0\n",
       "Singer/Artists    10\n",
       "Genre              0\n",
       "Album/Movie        3\n",
       "User-Rating        0\n",
       "dtype: int64"
      ]
     },
     "execution_count": 8,
     "metadata": {},
     "output_type": "execute_result"
    }
   ],
   "source": [
    "df.isnull().sum()"
   ]
  },
  {
   "cell_type": "code",
   "execution_count": 9,
   "id": "bd030ba1-1d73-40ac-b3fe-cd646931e1ba",
   "metadata": {},
   "outputs": [],
   "source": [
    "df.dropna(inplace=True)"
   ]
  },
  {
   "cell_type": "code",
   "execution_count": 10,
   "id": "a4b1e21a-2f76-44ad-93ce-a6ded9cdb1e6",
   "metadata": {},
   "outputs": [
    {
     "data": {
      "text/plain": [
       "SongName          0\n",
       "Singer/Artists    0\n",
       "Genre             0\n",
       "Album/Movie       0\n",
       "User-Rating       0\n",
       "dtype: int64"
      ]
     },
     "execution_count": 10,
     "metadata": {},
     "output_type": "execute_result"
    }
   ],
   "source": [
    "df.isnull().sum()"
   ]
  },
  {
   "cell_type": "code",
   "execution_count": 11,
   "id": "c4e13026-7210-4437-99e6-254f1c40328a",
   "metadata": {},
   "outputs": [],
   "source": [
    "def collapse(L):\n",
    "    L1 = []\n",
    "    for i in L:\n",
    "        L1.append(i.replace(\" \",\"\"))\n",
    "    return L1"
   ]
  },
  {
   "cell_type": "code",
   "execution_count": 12,
   "id": "f4d4e77f-c06b-47ce-8456-6b8562350c76",
   "metadata": {},
   "outputs": [],
   "source": [
    "df['Singer/Artists'] = df['Singer/Artists'].str.replace(\" \", \"\", regex=False)\n",
    "df['Album/Movie'] = df['Album/Movie'].str.replace(\" \", \"\", regex=False)"
   ]
  },
  {
   "cell_type": "code",
   "execution_count": 13,
   "id": "f16fc02b-d580-43d3-96e8-d1278f45823a",
   "metadata": {},
   "outputs": [
    {
     "data": {
      "text/html": [
       "<div>\n",
       "<style scoped>\n",
       "    .dataframe tbody tr th:only-of-type {\n",
       "        vertical-align: middle;\n",
       "    }\n",
       "\n",
       "    .dataframe tbody tr th {\n",
       "        vertical-align: top;\n",
       "    }\n",
       "\n",
       "    .dataframe thead th {\n",
       "        text-align: right;\n",
       "    }\n",
       "</style>\n",
       "<table border=\"1\" class=\"dataframe\">\n",
       "  <thead>\n",
       "    <tr style=\"text-align: right;\">\n",
       "      <th></th>\n",
       "      <th>SongName</th>\n",
       "      <th>Singer/Artists</th>\n",
       "      <th>Genre</th>\n",
       "      <th>Album/Movie</th>\n",
       "      <th>User-Rating</th>\n",
       "    </tr>\n",
       "  </thead>\n",
       "  <tbody>\n",
       "    <tr>\n",
       "      <th>1</th>\n",
       "      <td>Aankh Marey</td>\n",
       "      <td>KumarSanu,MikaSingh,NehaKakkar</td>\n",
       "      <td>BollywoodDance</td>\n",
       "      <td>Simmba</td>\n",
       "      <td>8.8/10</td>\n",
       "    </tr>\n",
       "    <tr>\n",
       "      <th>2</th>\n",
       "      <td>Coca Cola</td>\n",
       "      <td>NehaKakkar,TonyKakkar</td>\n",
       "      <td>BollywoodDanceRomantic</td>\n",
       "      <td>LukaChuppi</td>\n",
       "      <td>9.0/10</td>\n",
       "    </tr>\n",
       "    <tr>\n",
       "      <th>3</th>\n",
       "      <td>Apna Time Aayega</td>\n",
       "      <td>RanveerSingh</td>\n",
       "      <td>BollywoodDance</td>\n",
       "      <td>GullyBoy</td>\n",
       "      <td>9.7/10</td>\n",
       "    </tr>\n",
       "    <tr>\n",
       "      <th>4</th>\n",
       "      <td>Mungda</td>\n",
       "      <td>JyoticaTangri,Shaan,SubhroGanguly</td>\n",
       "      <td>BollywoodDance</td>\n",
       "      <td>TotalDhamaal</td>\n",
       "      <td>9.1/10</td>\n",
       "    </tr>\n",
       "    <tr>\n",
       "      <th>5</th>\n",
       "      <td>Tere Bin</td>\n",
       "      <td>AseesKaur,RahatFatehAliKhan,TanishkBagchi</td>\n",
       "      <td>BollywoodRomantic</td>\n",
       "      <td>Simmba</td>\n",
       "      <td>9.2/10</td>\n",
       "    </tr>\n",
       "  </tbody>\n",
       "</table>\n",
       "</div>"
      ],
      "text/plain": [
       "           SongName                             Singer/Artists  \\\n",
       "1       Aankh Marey             KumarSanu,MikaSingh,NehaKakkar   \n",
       "2         Coca Cola                      NehaKakkar,TonyKakkar   \n",
       "3  Apna Time Aayega                               RanveerSingh   \n",
       "4            Mungda          JyoticaTangri,Shaan,SubhroGanguly   \n",
       "5          Tere Bin  AseesKaur,RahatFatehAliKhan,TanishkBagchi   \n",
       "\n",
       "                    Genre   Album/Movie User-Rating  \n",
       "1          BollywoodDance        Simmba      8.8/10  \n",
       "2  BollywoodDanceRomantic    LukaChuppi      9.0/10  \n",
       "3          BollywoodDance      GullyBoy      9.7/10  \n",
       "4          BollywoodDance  TotalDhamaal      9.1/10  \n",
       "5       BollywoodRomantic        Simmba      9.2/10  "
      ]
     },
     "execution_count": 13,
     "metadata": {},
     "output_type": "execute_result"
    }
   ],
   "source": [
    "df.head()"
   ]
  },
  {
   "cell_type": "code",
   "execution_count": 14,
   "id": "c1a2c203-07d6-43b8-837d-f0142ab6fc06",
   "metadata": {},
   "outputs": [],
   "source": [
    "df['Genre'] = df['Genre'].apply(lambda x:x.split())"
   ]
  },
  {
   "cell_type": "code",
   "execution_count": 15,
   "id": "44d52b06-0628-4eb5-bc32-226fcb11f9a5",
   "metadata": {},
   "outputs": [],
   "source": [
    "df['User-Rating'] = df['User-Rating'].apply(lambda x:x.split())\n",
    "df['Singer/Artists'] = df['Singer/Artists'].apply(lambda x:x.split())\n",
    "df['Album/Movie'] = df['Album/Movie'].apply(lambda x:x.split())"
   ]
  },
  {
   "cell_type": "code",
   "execution_count": 16,
   "id": "73a74c9a-3c5a-4ff4-9fbc-90bf5d0fcce6",
   "metadata": {},
   "outputs": [
    {
     "data": {
      "text/html": [
       "<div>\n",
       "<style scoped>\n",
       "    .dataframe tbody tr th:only-of-type {\n",
       "        vertical-align: middle;\n",
       "    }\n",
       "\n",
       "    .dataframe tbody tr th {\n",
       "        vertical-align: top;\n",
       "    }\n",
       "\n",
       "    .dataframe thead th {\n",
       "        text-align: right;\n",
       "    }\n",
       "</style>\n",
       "<table border=\"1\" class=\"dataframe\">\n",
       "  <thead>\n",
       "    <tr style=\"text-align: right;\">\n",
       "      <th></th>\n",
       "      <th>SongName</th>\n",
       "      <th>Singer/Artists</th>\n",
       "      <th>Genre</th>\n",
       "      <th>Album/Movie</th>\n",
       "      <th>User-Rating</th>\n",
       "    </tr>\n",
       "  </thead>\n",
       "  <tbody>\n",
       "    <tr>\n",
       "      <th>1</th>\n",
       "      <td>Aankh Marey</td>\n",
       "      <td>[KumarSanu,MikaSingh,NehaKakkar]</td>\n",
       "      <td>[BollywoodDance]</td>\n",
       "      <td>[Simmba]</td>\n",
       "      <td>[8.8/10]</td>\n",
       "    </tr>\n",
       "    <tr>\n",
       "      <th>2</th>\n",
       "      <td>Coca Cola</td>\n",
       "      <td>[NehaKakkar,TonyKakkar]</td>\n",
       "      <td>[BollywoodDanceRomantic]</td>\n",
       "      <td>[LukaChuppi]</td>\n",
       "      <td>[9.0/10]</td>\n",
       "    </tr>\n",
       "    <tr>\n",
       "      <th>3</th>\n",
       "      <td>Apna Time Aayega</td>\n",
       "      <td>[RanveerSingh]</td>\n",
       "      <td>[BollywoodDance]</td>\n",
       "      <td>[GullyBoy]</td>\n",
       "      <td>[9.7/10]</td>\n",
       "    </tr>\n",
       "    <tr>\n",
       "      <th>4</th>\n",
       "      <td>Mungda</td>\n",
       "      <td>[JyoticaTangri,Shaan,SubhroGanguly]</td>\n",
       "      <td>[BollywoodDance]</td>\n",
       "      <td>[TotalDhamaal]</td>\n",
       "      <td>[9.1/10]</td>\n",
       "    </tr>\n",
       "    <tr>\n",
       "      <th>5</th>\n",
       "      <td>Tere Bin</td>\n",
       "      <td>[AseesKaur,RahatFatehAliKhan,TanishkBagchi]</td>\n",
       "      <td>[BollywoodRomantic]</td>\n",
       "      <td>[Simmba]</td>\n",
       "      <td>[9.2/10]</td>\n",
       "    </tr>\n",
       "  </tbody>\n",
       "</table>\n",
       "</div>"
      ],
      "text/plain": [
       "           SongName                               Singer/Artists  \\\n",
       "1       Aankh Marey             [KumarSanu,MikaSingh,NehaKakkar]   \n",
       "2         Coca Cola                      [NehaKakkar,TonyKakkar]   \n",
       "3  Apna Time Aayega                               [RanveerSingh]   \n",
       "4            Mungda          [JyoticaTangri,Shaan,SubhroGanguly]   \n",
       "5          Tere Bin  [AseesKaur,RahatFatehAliKhan,TanishkBagchi]   \n",
       "\n",
       "                      Genre     Album/Movie User-Rating  \n",
       "1          [BollywoodDance]        [Simmba]    [8.8/10]  \n",
       "2  [BollywoodDanceRomantic]    [LukaChuppi]    [9.0/10]  \n",
       "3          [BollywoodDance]      [GullyBoy]    [9.7/10]  \n",
       "4          [BollywoodDance]  [TotalDhamaal]    [9.1/10]  \n",
       "5       [BollywoodRomantic]        [Simmba]    [9.2/10]  "
      ]
     },
     "execution_count": 16,
     "metadata": {},
     "output_type": "execute_result"
    }
   ],
   "source": [
    "df.head()"
   ]
  },
  {
   "cell_type": "code",
   "execution_count": 17,
   "id": "8e288636-3671-44ab-8c6b-a4022c713596",
   "metadata": {},
   "outputs": [],
   "source": [
    "df['Tags']=df['Singer/Artists']+df['Genre']+df['Album/Movie']+df['User-Rating']"
   ]
  },
  {
   "cell_type": "code",
   "execution_count": 18,
   "id": "bc43a72e-ec39-43a4-9666-510fe14b84a4",
   "metadata": {},
   "outputs": [],
   "source": [
    "newdf=df.drop(columns=['Singer/Artists','Genre','User-Rating','Album/Movie'])"
   ]
  },
  {
   "cell_type": "code",
   "execution_count": 19,
   "id": "efc89bf2-a40e-4250-95d6-e35ac7936bb7",
   "metadata": {},
   "outputs": [
    {
     "data": {
      "text/html": [
       "<div>\n",
       "<style scoped>\n",
       "    .dataframe tbody tr th:only-of-type {\n",
       "        vertical-align: middle;\n",
       "    }\n",
       "\n",
       "    .dataframe tbody tr th {\n",
       "        vertical-align: top;\n",
       "    }\n",
       "\n",
       "    .dataframe thead th {\n",
       "        text-align: right;\n",
       "    }\n",
       "</style>\n",
       "<table border=\"1\" class=\"dataframe\">\n",
       "  <thead>\n",
       "    <tr style=\"text-align: right;\">\n",
       "      <th></th>\n",
       "      <th>SongName</th>\n",
       "      <th>Tags</th>\n",
       "    </tr>\n",
       "  </thead>\n",
       "  <tbody>\n",
       "    <tr>\n",
       "      <th>1</th>\n",
       "      <td>Aankh Marey</td>\n",
       "      <td>[KumarSanu,MikaSingh,NehaKakkar, BollywoodDanc...</td>\n",
       "    </tr>\n",
       "    <tr>\n",
       "      <th>2</th>\n",
       "      <td>Coca Cola</td>\n",
       "      <td>[NehaKakkar,TonyKakkar, BollywoodDanceRomantic...</td>\n",
       "    </tr>\n",
       "    <tr>\n",
       "      <th>3</th>\n",
       "      <td>Apna Time Aayega</td>\n",
       "      <td>[RanveerSingh, BollywoodDance, GullyBoy, 9.7/10]</td>\n",
       "    </tr>\n",
       "    <tr>\n",
       "      <th>4</th>\n",
       "      <td>Mungda</td>\n",
       "      <td>[JyoticaTangri,Shaan,SubhroGanguly, BollywoodD...</td>\n",
       "    </tr>\n",
       "    <tr>\n",
       "      <th>5</th>\n",
       "      <td>Tere Bin</td>\n",
       "      <td>[AseesKaur,RahatFatehAliKhan,TanishkBagchi, Bo...</td>\n",
       "    </tr>\n",
       "  </tbody>\n",
       "</table>\n",
       "</div>"
      ],
      "text/plain": [
       "           SongName                                               Tags\n",
       "1       Aankh Marey  [KumarSanu,MikaSingh,NehaKakkar, BollywoodDanc...\n",
       "2         Coca Cola  [NehaKakkar,TonyKakkar, BollywoodDanceRomantic...\n",
       "3  Apna Time Aayega   [RanveerSingh, BollywoodDance, GullyBoy, 9.7/10]\n",
       "4            Mungda  [JyoticaTangri,Shaan,SubhroGanguly, BollywoodD...\n",
       "5          Tere Bin  [AseesKaur,RahatFatehAliKhan,TanishkBagchi, Bo..."
      ]
     },
     "execution_count": 19,
     "metadata": {},
     "output_type": "execute_result"
    }
   ],
   "source": [
    "newdf.head()"
   ]
  },
  {
   "cell_type": "code",
   "execution_count": 20,
   "id": "dd381e19-f807-460c-aa54-e3da0e7599d9",
   "metadata": {},
   "outputs": [],
   "source": [
    "newdf['Tags']=newdf['Tags'].apply(lambda x: \" \".join(x))"
   ]
  },
  {
   "cell_type": "code",
   "execution_count": 21,
   "id": "d356504f-bf0b-46c5-a6e1-c2077c615f1f",
   "metadata": {},
   "outputs": [
    {
     "data": {
      "text/html": [
       "<div>\n",
       "<style scoped>\n",
       "    .dataframe tbody tr th:only-of-type {\n",
       "        vertical-align: middle;\n",
       "    }\n",
       "\n",
       "    .dataframe tbody tr th {\n",
       "        vertical-align: top;\n",
       "    }\n",
       "\n",
       "    .dataframe thead th {\n",
       "        text-align: right;\n",
       "    }\n",
       "</style>\n",
       "<table border=\"1\" class=\"dataframe\">\n",
       "  <thead>\n",
       "    <tr style=\"text-align: right;\">\n",
       "      <th></th>\n",
       "      <th>SongName</th>\n",
       "      <th>Tags</th>\n",
       "    </tr>\n",
       "  </thead>\n",
       "  <tbody>\n",
       "    <tr>\n",
       "      <th>1</th>\n",
       "      <td>Aankh Marey</td>\n",
       "      <td>KumarSanu,MikaSingh,NehaKakkar BollywoodDance ...</td>\n",
       "    </tr>\n",
       "    <tr>\n",
       "      <th>2</th>\n",
       "      <td>Coca Cola</td>\n",
       "      <td>NehaKakkar,TonyKakkar BollywoodDanceRomantic L...</td>\n",
       "    </tr>\n",
       "    <tr>\n",
       "      <th>3</th>\n",
       "      <td>Apna Time Aayega</td>\n",
       "      <td>RanveerSingh BollywoodDance GullyBoy 9.7/10</td>\n",
       "    </tr>\n",
       "    <tr>\n",
       "      <th>4</th>\n",
       "      <td>Mungda</td>\n",
       "      <td>JyoticaTangri,Shaan,SubhroGanguly BollywoodDan...</td>\n",
       "    </tr>\n",
       "    <tr>\n",
       "      <th>5</th>\n",
       "      <td>Tere Bin</td>\n",
       "      <td>AseesKaur,RahatFatehAliKhan,TanishkBagchi Boll...</td>\n",
       "    </tr>\n",
       "  </tbody>\n",
       "</table>\n",
       "</div>"
      ],
      "text/plain": [
       "           SongName                                               Tags\n",
       "1       Aankh Marey  KumarSanu,MikaSingh,NehaKakkar BollywoodDance ...\n",
       "2         Coca Cola  NehaKakkar,TonyKakkar BollywoodDanceRomantic L...\n",
       "3  Apna Time Aayega        RanveerSingh BollywoodDance GullyBoy 9.7/10\n",
       "4            Mungda  JyoticaTangri,Shaan,SubhroGanguly BollywoodDan...\n",
       "5          Tere Bin  AseesKaur,RahatFatehAliKhan,TanishkBagchi Boll..."
      ]
     },
     "execution_count": 21,
     "metadata": {},
     "output_type": "execute_result"
    }
   ],
   "source": [
    "newdf.head()"
   ]
  },
  {
   "cell_type": "code",
   "execution_count": 22,
   "id": "f2a20dd1-0be8-48cd-830f-533b7af0738f",
   "metadata": {},
   "outputs": [],
   "source": [
    "import nltk"
   ]
  },
  {
   "cell_type": "code",
   "execution_count": 23,
   "id": "f491440f-ffd6-4342-a554-03d3876767de",
   "metadata": {},
   "outputs": [],
   "source": [
    "from sklearn.feature_extraction.text import CountVectorizer\n",
    "cv=CountVectorizer(max_features=5000,stop_words='english')"
   ]
  },
  {
   "cell_type": "code",
   "execution_count": 24,
   "id": "fb9147ed-e09c-4d3a-9ad0-1fdc4b09960d",
   "metadata": {},
   "outputs": [],
   "source": [
    "vector=cv.fit_transform(newdf['Tags']).toarray()"
   ]
  },
  {
   "cell_type": "code",
   "execution_count": 25,
   "id": "30eca77a-0f78-40cb-9712-3f382029c63e",
   "metadata": {},
   "outputs": [
    {
     "data": {
      "text/plain": [
       "(2407, 1698)"
      ]
     },
     "execution_count": 25,
     "metadata": {},
     "output_type": "execute_result"
    }
   ],
   "source": [
    "vector.shape"
   ]
  },
  {
   "cell_type": "code",
   "execution_count": 26,
   "id": "26326245-1d54-4d94-b0d1-c13a64a5de28",
   "metadata": {},
   "outputs": [],
   "source": [
    "from sklearn.metrics.pairwise import cosine_similarity"
   ]
  },
  {
   "cell_type": "code",
   "execution_count": 27,
   "id": "646057fc-0b6a-4da7-826d-4b1f5e732ce1",
   "metadata": {},
   "outputs": [],
   "source": [
    "similarity=cosine_similarity(vector)"
   ]
  },
  {
   "cell_type": "code",
   "execution_count": 28,
   "id": "0dcf536e-8bd5-41c0-b0ae-85fb6be6c979",
   "metadata": {},
   "outputs": [
    {
     "data": {
      "text/plain": [
       "array([[1.        , 0.36514837, 0.40824829, ..., 0.33333333, 0.36514837,\n",
       "        0.40824829],\n",
       "       [0.36514837, 1.        , 0.2236068 , ..., 0.18257419, 0.2       ,\n",
       "        0.2236068 ],\n",
       "       [0.40824829, 0.2236068 , 1.        , ..., 0.40824829, 0.4472136 ,\n",
       "        0.5       ],\n",
       "       ...,\n",
       "       [0.33333333, 0.18257419, 0.40824829, ..., 1.        , 0.54772256,\n",
       "        0.40824829],\n",
       "       [0.36514837, 0.2       , 0.4472136 , ..., 0.54772256, 1.        ,\n",
       "        0.67082039],\n",
       "       [0.40824829, 0.2236068 , 0.5       , ..., 0.40824829, 0.67082039,\n",
       "        1.        ]])"
      ]
     },
     "execution_count": 28,
     "metadata": {},
     "output_type": "execute_result"
    }
   ],
   "source": [
    "similarity"
   ]
  },
  {
   "cell_type": "code",
   "execution_count": 29,
   "id": "e539863f-3686-4e28-9b23-1cc68e0b10cb",
   "metadata": {},
   "outputs": [
    {
     "data": {
      "text/plain": [
       "array([0.36514837, 1.        , 0.2236068 , ..., 0.18257419, 0.2       ,\n",
       "       0.2236068 ])"
      ]
     },
     "execution_count": 29,
     "metadata": {},
     "output_type": "execute_result"
    }
   ],
   "source": [
    "similarity[1]"
   ]
  },
  {
   "cell_type": "code",
   "execution_count": 30,
   "id": "cb7a8796-fdae-44a2-833d-442e0edf41ff",
   "metadata": {},
   "outputs": [
    {
     "data": {
      "text/plain": [
       "np.int64(267)"
      ]
     },
     "execution_count": 30,
     "metadata": {},
     "output_type": "execute_result"
    }
   ],
   "source": [
    "newdf[newdf['SongName'] == 'Kabira'].index[0]"
   ]
  },
  {
   "cell_type": "code",
   "execution_count": 31,
   "id": "ef082569-2163-400c-ab62-c6dae2d97e2f",
   "metadata": {},
   "outputs": [],
   "source": [
    "def recommend(songs):\n",
    "    song_index=newdf[newdf['SongName'] == songs].index[0]\n",
    "    distances=sorted(list(enumerate(similarity[song_index])),reverse=True,key=lambda x:x[1])\n",
    "    for i in distances[1:6]:\n",
    "        print(newdf.iloc[i[0]].SongName)"
   ]
  },
  {
   "cell_type": "code",
   "execution_count": 35,
   "id": "535c0632-cf17-42a1-a75d-74457c8e2fdb",
   "metadata": {},
   "outputs": [
    {
     "name": "stdout",
     "output_type": "stream",
     "text": [
      "Dilnashin Dilnashin\n",
      "Hai Junoon\n",
      "Ladka Yeh Kehta Hai\n",
      "Char Baj Gaye (Party Abhi Baaki Hai)\n",
      "Jannatein Kahan\n"
     ]
    }
   ],
   "source": [
    "recommend('Dekhte Dekhte')"
   ]
  },
  {
   "cell_type": "code",
   "execution_count": 33,
   "id": "6fb8083b-932c-4718-80df-e70672b3dc57",
   "metadata": {},
   "outputs": [],
   "source": [
    "import pickle"
   ]
  },
  {
   "cell_type": "code",
   "execution_count": 34,
   "id": "0bbc82be-3eec-45be-9b77-e2c1e83dca70",
   "metadata": {},
   "outputs": [],
   "source": [
    "pickle.dump(newdf,open('song_list.pkl','wb'))\n",
    "pickle.dump(similarity,open('similarity.pkl','wb'))"
   ]
  },
  {
   "cell_type": "code",
   "execution_count": null,
   "id": "f2109bcb-0346-4b00-8e4d-eca46f064d45",
   "metadata": {},
   "outputs": [],
   "source": []
  }
 ],
 "metadata": {
  "kernelspec": {
   "display_name": "Python 3 (ipykernel)",
   "language": "python",
   "name": "python3"
  },
  "language_info": {
   "codemirror_mode": {
    "name": "ipython",
    "version": 3
   },
   "file_extension": ".py",
   "mimetype": "text/x-python",
   "name": "python",
   "nbconvert_exporter": "python",
   "pygments_lexer": "ipython3",
   "version": "3.13.5"
  }
 },
 "nbformat": 4,
 "nbformat_minor": 5
}
